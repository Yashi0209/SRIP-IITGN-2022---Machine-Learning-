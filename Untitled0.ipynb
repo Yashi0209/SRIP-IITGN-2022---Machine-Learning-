{
  "nbformat": 4,
  "nbformat_minor": 0,
  "metadata": {
    "colab": {
      "name": "Untitled0.ipynb",
      "provenance": [],
      "authorship_tag": "ABX9TyPh/PYAGO7eDJyaOj7DWl2W",
      "include_colab_link": true
    },
    "kernelspec": {
      "name": "python3",
      "display_name": "Python 3"
    },
    "language_info": {
      "name": "python"
    }
  },
  "cells": [
    {
      "cell_type": "markdown",
      "metadata": {
        "id": "view-in-github",
        "colab_type": "text"
      },
      "source": [
        "<a href=\"https://colab.research.google.com/github/Yashi0209/SRIP-IITGN-2022---Machine-Learning-/blob/main/Untitled0.ipynb\" target=\"_parent\"><img src=\"https://colab.research.google.com/assets/colab-badge.svg\" alt=\"Open In Colab\"/></a>"
      ]
    },
    {
      "cell_type": "markdown",
      "source": [
        ""
      ],
      "metadata": {
        "id": "OolIdpYhp9vT"
      }
    },
    {
      "cell_type": "markdown",
      "source": [
        "# MLP training on MNIST"
      ],
      "metadata": {
        "id": "yAP94rf6p_OS"
      }
    },
    {
      "cell_type": "code",
      "source": [
        "# todo: int MLP and add the predict function\n",
        "# todo: add data loading in PyTorch\n",
        "# todo: add training loop, loss function\n",
        "\n",
        "import numpy as np\n",
        "import jax.numpy as jnp\n",
        "from jax.scipy.special import logsumexp\n",
        "import jax\n",
        "from jax import jit,vmap,pmap,grad, value_and_grad\n",
        "from torchvision.datasets import MNIST\n",
        "from torch.utils.data import DataLoader"
      ],
      "metadata": {
        "id": "t8n4Ru17qOll"
      },
      "execution_count": 2,
      "outputs": []
    },
    {
      "cell_type": "code",
      "source": [
        "seed = 0 \n",
        "def init_MLP(layer_widths,parent_key,scale=0.01):\n",
        "  params=[]\n",
        "  keys = jax.random.split(parent_key,num=len(layer_widths)-1)\n",
        "  for in_width, out_width,key in zip(layer_widths[:-1],layer_widths[1:],keys):\n",
        "    weight_key,bais_key = jax.random.split(key)\n",
        "    params.append(\n",
        "        [scale*jax.random.normal(weight_key,shape=(out_width,in_width)), scale*jax.random.normal(bais_key,shape=(out_width,))]\n",
        "    )\n",
        "  return params\n",
        "\n",
        "key = jax.random.PRNGKey(seed) \n",
        "MLP_params = init_MLP([784,512,256,10], key)\n",
        "\n",
        "print(jax.tree_map(lambda x: x.shape,MLP_params))"
      ],
      "metadata": {
        "colab": {
          "base_uri": "https://localhost:8080/"
        },
        "id": "DfYXimEErh9D",
        "outputId": "9a310f58-fc04-45cc-81de-170e618bd728"
      },
      "execution_count": 5,
      "outputs": [
        {
          "output_type": "stream",
          "name": "stderr",
          "text": [
            "WARNING:absl:No GPU/TPU found, falling back to CPU. (Set TF_CPP_MIN_LOG_LEVEL=0 and rerun for more info.)\n"
          ]
        },
        {
          "output_type": "stream",
          "name": "stdout",
          "text": [
            "[[(512, 784), (512,)], [(256, 512), (256,)], [(10, 256), (10,)]]\n"
          ]
        }
      ]
    },
    {
      "cell_type": "code",
      "source": [
        "def custom_transform(x):\n",
        "  return np.ravel(np.array(x,dtype=np.float32))\n",
        "\n",
        "def custom_collate_fn(batch):\n",
        "  transposed_data = list(zip(*batch))\n",
        "  labels = np.array(transposed_data[1])\n",
        "  imgs = np.stack(transposed_data[0])\n",
        "\n",
        "  return imgs, labels\n",
        "\n",
        "batch_size = 128\n",
        "train_dataset = MNIST(root='tarin_mnist', train=True,download= True,transform= custom_transform)\n",
        "test_dataset = MNIST(root='test_mnist', train=False,download= True,transform= custom_transform)\n",
        "\n",
        "img = train_dataset[0][0]\n",
        "print(img.shape)\n",
        "\n",
        "train_loader = DataLoader(train_dataset,batch_size,shuffle=True, collate_fn = custom_collate_fn)\n",
        "\n",
        "batch_data= next(iter(train_loader))\n",
        "imgs  = batch_data[0]\n",
        "lbls = batch_data[1]\n",
        "print(imgs.shape,imgs[0].dtype,lbls.shape,lbls[0].dtype)"
      ],
      "metadata": {
        "colab": {
          "base_uri": "https://localhost:8080/"
        },
        "id": "XrUeMcsVqazZ",
        "outputId": "8fcea630-34f9-4a15-84cf-224ae90f031d"
      },
      "execution_count": 12,
      "outputs": [
        {
          "output_type": "stream",
          "name": "stdout",
          "text": [
            "(784,)\n",
            "(128, 784) float32 (128,) int64\n"
          ]
        }
      ]
    },
    {
      "cell_type": "code",
      "source": [
        "def MLP_predict(params,x):\n",
        "  hidden_layers = params[:-1]\n",
        "  activation = x\n",
        "  for w,b in hidden_layers:\n",
        "    activation = jax.nn.relu(jnp.dot(w,activation)+b)\n",
        "\n",
        "  w_last, b_last = params[-1]\n",
        "  logits = jnp.dot(w_last,activation)+b_last\n",
        "\n",
        "  #log(exp(o1))-log(sum(exp(o1)),exp(o2),....,exp(o10))\n",
        "  #log(exp(o1)/sum(...))\n",
        "  return logits - logsumexp(logits)\n",
        "\n",
        "batched_MLP_predict = vmap(MLP_predict, in_axes=(None,0))\n",
        "\n",
        "#dummy_imags_flat = np.random.randn(16,np.prod(mnist_img_size))\n",
        "#print(dummy_imags_flat.shape)\n",
        "#prediction = batched_MLP_predict(MLP_params,dummy_imags_flat)\n",
        "#print(prediction.shape)"
      ],
      "metadata": {
        "id": "0i5Jf8vrsGOg"
      },
      "execution_count": 3,
      "outputs": []
    },
    {
      "cell_type": "code",
      "source": [
        "# add the training loop loos function\n",
        "\n",
        "num_epochs = 10\n",
        "def loss_fn(params,imgs,gt_lbls):\n",
        "  predictions = batched_MLP_predict(params,imgs)\n",
        "  return -jnp.mean(predictions*gt_lbls)\n",
        "\n",
        "def update(params,imgs,gt_lbls,Ir=0.01):\n",
        "  loss,grads= value_and_grad(loss_fn)(params,imgs,gt_lbls)\n",
        "  return loss,jax.tree_multimap(lambda p,g : p-Ir*g,params,grads)\n",
        "  \n",
        "for epoch in range(num_epochs):\n",
        "\n",
        "  for cnt,(imgs,lbls) in enumerate(train_loader):\n",
        "    gt_labels = jax.nn.one_hot(lbls,len(MNIST.classes))\n",
        "   \n",
        "    loss,MLP_params=update(MLP_params,imgs,gt_labels)\n",
        "    \n",
        "    if cnt%50==0:\n",
        "      print(gt_labels.shape)\n",
        "      print(loss)\n",
        "\n",
        "  break"
      ],
      "metadata": {
        "id": "AWw0b6sMJXQ2"
      },
      "execution_count": null,
      "outputs": []
    },
    {
      "cell_type": "markdown",
      "source": [
        "#Visulzations"
      ],
      "metadata": {
        "id": "8Kw12XpsqV3-"
      }
    },
    {
      "cell_type": "code",
      "source": [
        "# todo: visualize the MLP weight\n",
        "# todo: visualize enbeddings using t-SNE\n",
        "# todo: dead neurons "
      ],
      "metadata": {
        "id": "EwlpcWMAqbrx"
      },
      "execution_count": null,
      "outputs": []
    },
    {
      "cell_type": "markdown",
      "source": [
        "#Parallelization"
      ],
      "metadata": {
        "id": "o6Wy5mv_qfW-"
      }
    },
    {
      "cell_type": "code",
      "source": [
        ""
      ],
      "metadata": {
        "id": "DJ85SyhkqhjU"
      },
      "execution_count": null,
      "outputs": []
    }
  ]
}